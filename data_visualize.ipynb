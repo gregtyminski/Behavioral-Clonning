{
 "cells": [
  {
   "cell_type": "code",
   "execution_count": 1,
   "metadata": {},
   "outputs": [],
   "source": [
    "%load_ext autoreload\n",
    "%autoreload 2"
   ]
  },
  {
   "cell_type": "code",
   "execution_count": 2,
   "metadata": {},
   "outputs": [
    {
     "name": "stderr",
     "output_type": "stream",
     "text": [
      "/opt/anaconda3/lib/python3.7/site-packages/tensorflow/python/framework/dtypes.py:516: FutureWarning: Passing (type, 1) or '1type' as a synonym of type is deprecated; in a future version of numpy, it will be understood as (type, (1,)) / '(1,)type'.\n",
      "  _np_qint8 = np.dtype([(\"qint8\", np.int8, 1)])\n",
      "/opt/anaconda3/lib/python3.7/site-packages/tensorflow/python/framework/dtypes.py:517: FutureWarning: Passing (type, 1) or '1type' as a synonym of type is deprecated; in a future version of numpy, it will be understood as (type, (1,)) / '(1,)type'.\n",
      "  _np_quint8 = np.dtype([(\"quint8\", np.uint8, 1)])\n",
      "/opt/anaconda3/lib/python3.7/site-packages/tensorflow/python/framework/dtypes.py:518: FutureWarning: Passing (type, 1) or '1type' as a synonym of type is deprecated; in a future version of numpy, it will be understood as (type, (1,)) / '(1,)type'.\n",
      "  _np_qint16 = np.dtype([(\"qint16\", np.int16, 1)])\n",
      "/opt/anaconda3/lib/python3.7/site-packages/tensorflow/python/framework/dtypes.py:519: FutureWarning: Passing (type, 1) or '1type' as a synonym of type is deprecated; in a future version of numpy, it will be understood as (type, (1,)) / '(1,)type'.\n",
      "  _np_quint16 = np.dtype([(\"quint16\", np.uint16, 1)])\n",
      "/opt/anaconda3/lib/python3.7/site-packages/tensorflow/python/framework/dtypes.py:520: FutureWarning: Passing (type, 1) or '1type' as a synonym of type is deprecated; in a future version of numpy, it will be understood as (type, (1,)) / '(1,)type'.\n",
      "  _np_qint32 = np.dtype([(\"qint32\", np.int32, 1)])\n",
      "/opt/anaconda3/lib/python3.7/site-packages/tensorflow/python/framework/dtypes.py:525: FutureWarning: Passing (type, 1) or '1type' as a synonym of type is deprecated; in a future version of numpy, it will be understood as (type, (1,)) / '(1,)type'.\n",
      "  np_resource = np.dtype([(\"resource\", np.ubyte, 1)])\n",
      "/opt/anaconda3/lib/python3.7/site-packages/tensorboard/compat/tensorflow_stub/dtypes.py:541: FutureWarning: Passing (type, 1) or '1type' as a synonym of type is deprecated; in a future version of numpy, it will be understood as (type, (1,)) / '(1,)type'.\n",
      "  _np_qint8 = np.dtype([(\"qint8\", np.int8, 1)])\n",
      "/opt/anaconda3/lib/python3.7/site-packages/tensorboard/compat/tensorflow_stub/dtypes.py:542: FutureWarning: Passing (type, 1) or '1type' as a synonym of type is deprecated; in a future version of numpy, it will be understood as (type, (1,)) / '(1,)type'.\n",
      "  _np_quint8 = np.dtype([(\"quint8\", np.uint8, 1)])\n",
      "/opt/anaconda3/lib/python3.7/site-packages/tensorboard/compat/tensorflow_stub/dtypes.py:543: FutureWarning: Passing (type, 1) or '1type' as a synonym of type is deprecated; in a future version of numpy, it will be understood as (type, (1,)) / '(1,)type'.\n",
      "  _np_qint16 = np.dtype([(\"qint16\", np.int16, 1)])\n",
      "/opt/anaconda3/lib/python3.7/site-packages/tensorboard/compat/tensorflow_stub/dtypes.py:544: FutureWarning: Passing (type, 1) or '1type' as a synonym of type is deprecated; in a future version of numpy, it will be understood as (type, (1,)) / '(1,)type'.\n",
      "  _np_quint16 = np.dtype([(\"quint16\", np.uint16, 1)])\n",
      "/opt/anaconda3/lib/python3.7/site-packages/tensorboard/compat/tensorflow_stub/dtypes.py:545: FutureWarning: Passing (type, 1) or '1type' as a synonym of type is deprecated; in a future version of numpy, it will be understood as (type, (1,)) / '(1,)type'.\n",
      "  _np_qint32 = np.dtype([(\"qint32\", np.int32, 1)])\n",
      "/opt/anaconda3/lib/python3.7/site-packages/tensorboard/compat/tensorflow_stub/dtypes.py:550: FutureWarning: Passing (type, 1) or '1type' as a synonym of type is deprecated; in a future version of numpy, it will be understood as (type, (1,)) / '(1,)type'.\n",
      "  np_resource = np.dtype([(\"resource\", np.ubyte, 1)])\n"
     ]
    }
   ],
   "source": [
    "from DataGenerator import DataGenerator\n",
    "import matplotlib.pyplot as plt\n",
    "import dtale"
   ]
  },
  {
   "cell_type": "code",
   "execution_count": 3,
   "metadata": {},
   "outputs": [],
   "source": [
    "epochs = 120\n",
    "batch_size = 16\n",
    "learn_rate = 0.001"
   ]
  },
  {
   "cell_type": "markdown",
   "metadata": {},
   "source": [
    "# Data collected by me"
   ]
  },
  {
   "cell_type": "code",
   "execution_count": 4,
   "metadata": {},
   "outputs": [],
   "source": [
    "generator1 = DataGenerator('./my_data/', epochs, batch_size, debug=False)"
   ]
  },
  {
   "cell_type": "code",
   "execution_count": 5,
   "metadata": {},
   "outputs": [
    {
     "name": "stderr",
     "output_type": "stream",
     "text": [
      "2019-12-10 21:27:25,938 - INFO     - D-Tale started at: http://MacBook-Pro-GT:54718\n"
     ]
    },
    {
     "name": "stdout",
     "output_type": "stream",
     "text": [
      " * Serving Flask app \"dtale\" (lazy loading)\n",
      " * Environment: production\n",
      "   WARNING: This is a development server. Do not use it in a production deployment.\n",
      "   Use a production WSGI server instead.\n",
      " * Debug mode: off\n"
     ]
    },
    {
     "data": {
      "text/html": [
       "\n",
       "        <iframe\n",
       "            width=\"100%\"\n",
       "            height=\"350\"\n",
       "            src=\"http://MacBook-Pro-GT:54718/dtale/iframe\"\n",
       "            frameborder=\"0\"\n",
       "            allowfullscreen\n",
       "        ></iframe>\n",
       "        "
      ],
      "text/plain": [
       "<IPython.lib.display.IFrame at 0x1043652d0>"
      ]
     },
     "metadata": {},
     "output_type": "display_data"
    },
    {
     "data": {
      "text/plain": []
     },
     "execution_count": 5,
     "metadata": {},
     "output_type": "execute_result"
    }
   ],
   "source": [
    "dtale.show(generator1.df)"
   ]
  },
  {
   "cell_type": "code",
   "execution_count": 6,
   "metadata": {},
   "outputs": [
    {
     "data": {
      "text/plain": [
       "(array([2.600e+01, 4.000e+00, 2.000e+00, 2.000e+00, 0.000e+00, 1.000e+00,\n",
       "        1.000e+00, 1.000e+00, 1.000e+00, 1.000e+00, 1.400e+01, 1.000e+01,\n",
       "        1.600e+01, 3.000e+00, 2.000e+00, 3.000e+00, 2.000e+00, 6.000e+00,\n",
       "        4.000e+00, 5.000e+00, 9.000e+00, 1.700e+01, 1.200e+01, 1.800e+01,\n",
       "        1.100e+01, 1.100e+01, 1.600e+01, 2.200e+01, 5.100e+01, 7.800e+01,\n",
       "        4.700e+01, 6.100e+01, 5.600e+01, 8.800e+01, 7.900e+01, 1.520e+02,\n",
       "        2.540e+02, 3.330e+02, 5.190e+02, 8.300e+02, 1.437e+03, 2.238e+03,\n",
       "        1.034e+03, 5.400e+02, 3.830e+02, 4.440e+02, 3.910e+02, 4.770e+02,\n",
       "        4.910e+02, 7.420e+02, 1.228e+03, 1.334e+03, 2.415e+03, 6.870e+02,\n",
       "        3.960e+02, 4.970e+02, 3.530e+02, 4.800e+02, 4.700e+02, 6.070e+02,\n",
       "        9.260e+02, 1.468e+03, 2.140e+03, 1.009e+03, 4.140e+02, 3.940e+02,\n",
       "        2.930e+02, 1.990e+02, 1.740e+02, 7.700e+01, 8.400e+01, 7.900e+01,\n",
       "        4.900e+01, 5.500e+01, 3.900e+01, 4.200e+01, 1.900e+01, 2.100e+01,\n",
       "        2.300e+01, 1.400e+01, 1.000e+01, 1.400e+01, 3.000e+00, 6.000e+00,\n",
       "        6.000e+00, 7.000e+00, 4.000e+00, 1.000e+00, 1.000e+00, 6.000e+00,\n",
       "        1.000e+00, 7.000e+00, 1.000e+00, 5.000e+00, 6.000e+00, 3.000e+00,\n",
       "        1.000e+00, 0.000e+00, 0.000e+00, 5.000e+00]),\n",
       " array([-1.00000000e+00, -9.80773039e-01, -9.61546078e-01, -9.42319117e-01,\n",
       "        -9.23092156e-01, -9.03865195e-01, -8.84638234e-01, -8.65411273e-01,\n",
       "        -8.46184312e-01, -8.26957351e-01, -8.07730390e-01, -7.88503429e-01,\n",
       "        -7.69276468e-01, -7.50049507e-01, -7.30822546e-01, -7.11595585e-01,\n",
       "        -6.92368624e-01, -6.73141663e-01, -6.53914702e-01, -6.34687741e-01,\n",
       "        -6.15460780e-01, -5.96233819e-01, -5.77006858e-01, -5.57779897e-01,\n",
       "        -5.38552936e-01, -5.19325975e-01, -5.00099014e-01, -4.80872053e-01,\n",
       "        -4.61645092e-01, -4.42418131e-01, -4.23191170e-01, -4.03964209e-01,\n",
       "        -3.84737248e-01, -3.65510287e-01, -3.46283326e-01, -3.27056365e-01,\n",
       "        -3.07829404e-01, -2.88602443e-01, -2.69375482e-01, -2.50148521e-01,\n",
       "        -2.30921560e-01, -2.11694599e-01, -1.92467638e-01, -1.73240677e-01,\n",
       "        -1.54013716e-01, -1.34786755e-01, -1.15559794e-01, -9.63328330e-02,\n",
       "        -7.71058720e-02, -5.78789110e-02, -3.86519500e-02, -1.94249890e-02,\n",
       "        -1.98028000e-04,  1.90289330e-02,  3.82558940e-02,  5.74828550e-02,\n",
       "         7.67098160e-02,  9.59367770e-02,  1.15163738e-01,  1.34390699e-01,\n",
       "         1.53617660e-01,  1.72844621e-01,  1.92071582e-01,  2.11298543e-01,\n",
       "         2.30525504e-01,  2.49752465e-01,  2.68979426e-01,  2.88206387e-01,\n",
       "         3.07433348e-01,  3.26660309e-01,  3.45887270e-01,  3.65114231e-01,\n",
       "         3.84341192e-01,  4.03568153e-01,  4.22795114e-01,  4.42022075e-01,\n",
       "         4.61249036e-01,  4.80475997e-01,  4.99702958e-01,  5.18929919e-01,\n",
       "         5.38156880e-01,  5.57383841e-01,  5.76610802e-01,  5.95837763e-01,\n",
       "         6.15064724e-01,  6.34291685e-01,  6.53518646e-01,  6.72745607e-01,\n",
       "         6.91972568e-01,  7.11199529e-01,  7.30426490e-01,  7.49653451e-01,\n",
       "         7.68880412e-01,  7.88107373e-01,  8.07334334e-01,  8.26561295e-01,\n",
       "         8.45788256e-01,  8.65015217e-01,  8.84242178e-01,  9.03469139e-01,\n",
       "         9.22696100e-01]),\n",
       " <a list of 100 Patch objects>)"
      ]
     },
     "execution_count": 6,
     "metadata": {},
     "output_type": "execute_result"
    },
    {
     "data": {
      "image/png": "[encoded data removed]",
      "text/plain": [
       "<Figure size 864x216 with 1 Axes>"
      ]
     },
     "metadata": {
      "needs_background": "light"
     },
     "output_type": "display_data"
    },
    {
     "data": {
      "image/png": "[encoded data removed]",
      "text/plain": [
       "<Figure size 864x216 with 1 Axes>"
      ]
     },
     "metadata": {
      "needs_background": "light"
     },
     "output_type": "display_data"
    }
   ],
   "source": [
    "generator1.show_stats(logarithmic=False, bins=100)\n",
    "generator1.show_stats(logarithmic=True, bins=100)"
   ]
  },
  {
   "cell_type": "code",
   "execution_count": 7,
   "metadata": {},
   "outputs": [],
   "source": [
    "generator1.balance_dataset()"
   ]
  },
  {
   "cell_type": "code",
   "execution_count": 8,
   "metadata": {},
   "outputs": [
    {
     "name": "stderr",
     "output_type": "stream",
     "text": [
      "2019-12-10 21:27:28,328 - INFO     - D-Tale started at: http://MacBook-Pro-GT:54728\n"
     ]
    },
    {
     "name": "stdout",
     "output_type": "stream",
     "text": [
      " * Serving Flask app \"dtale\" (lazy loading)\n",
      " * Environment: production\n",
      "   WARNING: This is a development server. Do not use it in a production deployment.\n",
      "   Use a production WSGI server instead.\n",
      " * Debug mode: off\n"
     ]
    },
    {
     "data": {
      "text/html": [
       "\n",
       "        <iframe\n",
       "            width=\"100%\"\n",
       "            height=\"350\"\n",
       "            src=\"http://MacBook-Pro-GT:54728/dtale/iframe\"\n",
       "            frameborder=\"0\"\n",
       "            allowfullscreen\n",
       "        ></iframe>\n",
       "        "
      ],
      "text/plain": [
       "<IPython.lib.display.IFrame at 0x115b4b290>"
      ]
     },
     "metadata": {},
     "output_type": "display_data"
    },
    {
     "data": {
      "text/plain": []
     },
     "execution_count": 8,
     "metadata": {},
     "output_type": "execute_result"
    }
   ],
   "source": [
    "dtale.show(generator1.df)"
   ]
  },
  {
   "cell_type": "code",
   "execution_count": 9,
   "metadata": {},
   "outputs": [
    {
     "data": {
      "text/plain": [
       "(array([2.600e+01, 4.000e+00, 2.000e+00, 2.000e+00, 0.000e+00, 1.000e+00,\n",
       "        1.000e+00, 1.000e+00, 1.000e+00, 1.000e+00, 1.400e+01, 1.000e+01,\n",
       "        1.600e+01, 3.000e+00, 2.000e+00, 3.000e+00, 2.000e+00, 6.000e+00,\n",
       "        4.000e+00, 5.000e+00, 9.000e+00, 1.700e+01, 1.200e+01, 1.800e+01,\n",
       "        1.100e+01, 1.100e+01, 1.600e+01, 2.200e+01, 5.100e+01, 7.800e+01,\n",
       "        4.700e+01, 6.100e+01, 5.600e+01, 8.800e+01, 7.900e+01, 1.520e+02,\n",
       "        2.540e+02, 3.330e+02, 5.190e+02, 8.300e+02, 7.910e+02, 2.230e+02,\n",
       "        3.480e+02, 5.400e+02, 3.830e+02, 4.440e+02, 3.910e+02, 4.770e+02,\n",
       "        4.910e+02, 7.420e+02, 1.228e+03, 8.370e+02, 8.850e+02, 6.870e+02,\n",
       "        3.960e+02, 4.970e+02, 3.530e+02, 4.800e+02, 4.700e+02, 6.070e+02,\n",
       "        9.260e+02, 6.080e+02, 2.040e+02, 4.690e+02, 4.140e+02, 3.940e+02,\n",
       "        2.930e+02, 1.990e+02, 1.740e+02, 7.700e+01, 8.400e+01, 7.900e+01,\n",
       "        4.900e+01, 5.500e+01, 3.900e+01, 4.200e+01, 1.900e+01, 2.100e+01,\n",
       "        2.300e+01, 1.400e+01, 1.000e+01, 1.400e+01, 3.000e+00, 6.000e+00,\n",
       "        6.000e+00, 7.000e+00, 4.000e+00, 1.000e+00, 1.000e+00, 6.000e+00,\n",
       "        1.000e+00, 7.000e+00, 1.000e+00, 5.000e+00, 6.000e+00, 3.000e+00,\n",
       "        1.000e+00, 0.000e+00, 0.000e+00, 5.000e+00]),\n",
       " array([-1.00000000e+00, -9.80773039e-01, -9.61546078e-01, -9.42319117e-01,\n",
       "        -9.23092156e-01, -9.03865195e-01, -8.84638234e-01, -8.65411273e-01,\n",
       "        -8.46184312e-01, -8.26957351e-01, -8.07730390e-01, -7.88503429e-01,\n",
       "        -7.69276468e-01, -7.50049507e-01, -7.30822546e-01, -7.11595585e-01,\n",
       "        -6.92368624e-01, -6.73141663e-01, -6.53914702e-01, -6.34687741e-01,\n",
       "        -6.15460780e-01, -5.96233819e-01, -5.77006858e-01, -5.57779897e-01,\n",
       "        -5.38552936e-01, -5.19325975e-01, -5.00099014e-01, -4.80872053e-01,\n",
       "        -4.61645092e-01, -4.42418131e-01, -4.23191170e-01, -4.03964209e-01,\n",
       "        -3.84737248e-01, -3.65510287e-01, -3.46283326e-01, -3.27056365e-01,\n",
       "        -3.07829404e-01, -2.88602443e-01, -2.69375482e-01, -2.50148521e-01,\n",
       "        -2.30921560e-01, -2.11694599e-01, -1.92467638e-01, -1.73240677e-01,\n",
       "        -1.54013716e-01, -1.34786755e-01, -1.15559794e-01, -9.63328330e-02,\n",
       "        -7.71058720e-02, -5.78789110e-02, -3.86519500e-02, -1.94249890e-02,\n",
       "        -1.98028000e-04,  1.90289330e-02,  3.82558940e-02,  5.74828550e-02,\n",
       "         7.67098160e-02,  9.59367770e-02,  1.15163738e-01,  1.34390699e-01,\n",
       "         1.53617660e-01,  1.72844621e-01,  1.92071582e-01,  2.11298543e-01,\n",
       "         2.30525504e-01,  2.49752465e-01,  2.68979426e-01,  2.88206387e-01,\n",
       "         3.07433348e-01,  3.26660309e-01,  3.45887270e-01,  3.65114231e-01,\n",
       "         3.84341192e-01,  4.03568153e-01,  4.22795114e-01,  4.42022075e-01,\n",
       "         4.61249036e-01,  4.80475997e-01,  4.99702958e-01,  5.18929919e-01,\n",
       "         5.38156880e-01,  5.57383841e-01,  5.76610802e-01,  5.95837763e-01,\n",
       "         6.15064724e-01,  6.34291685e-01,  6.53518646e-01,  6.72745607e-01,\n",
       "         6.91972568e-01,  7.11199529e-01,  7.30426490e-01,  7.49653451e-01,\n",
       "         7.68880412e-01,  7.88107373e-01,  8.07334334e-01,  8.26561295e-01,\n",
       "         8.45788256e-01,  8.65015217e-01,  8.84242178e-01,  9.03469139e-01,\n",
       "         9.22696100e-01]),\n",
       " <a list of 100 Patch objects>)"
      ]
     },
     "execution_count": 9,
     "metadata": {},
     "output_type": "execute_result"
    },
    {
     "data": {
      "image/png": "[encoded data removed]",
      "text/plain": [
       "<Figure size 864x216 with 1 Axes>"
      ]
     },
     "metadata": {
      "needs_background": "light"
     },
     "output_type": "display_data"
    },
    {
     "data": {
      "image/png": "[encoded data removed]",
      "text/plain": [
       "<Figure size 864x216 with 1 Axes>"
      ]
     },
     "metadata": {
      "needs_background": "light"
     },
     "output_type": "display_data"
    }
   ],
   "source": [
    "generator1.show_stats(logarithmic=False, bins=100)\n",
    "generator1.show_stats(logarithmic=True, bins=100)"
   ]
  },
  {
   "cell_type": "markdown",
   "metadata": {},
   "source": [
    "# Data provided by Udacity"
   ]
  },
  {
   "cell_type": "code",
   "execution_count": 10,
   "metadata": {},
   "outputs": [],
   "source": [
    "generator2 = DataGenerator('./udacity_data/', epochs, batch_size, debug=False)"
   ]
  },
  {
   "cell_type": "code",
   "execution_count": 11,
   "metadata": {
    "scrolled": false
   },
   "outputs": [
    {
     "name": "stderr",
     "output_type": "stream",
     "text": [
      "2019-12-10 21:27:29,465 - INFO     - D-Tale started at: http://MacBook-Pro-GT:54739\n"
     ]
    },
    {
     "name": "stdout",
     "output_type": "stream",
     "text": [
      " * Serving Flask app \"dtale\" (lazy loading)\n",
      " * Environment: production\n",
      "   WARNING: This is a development server. Do not use it in a production deployment.\n",
      "   Use a production WSGI server instead.\n",
      " * Debug mode: off\n"
     ]
    },
    {
     "data": {
      "text/html": [
       "\n",
       "        <iframe\n",
       "            width=\"100%\"\n",
       "            height=\"350\"\n",
       "            src=\"http://MacBook-Pro-GT:54739/dtale/iframe\"\n",
       "            frameborder=\"0\"\n",
       "            allowfullscreen\n",
       "        ></iframe>\n",
       "        "
      ],
      "text/plain": [
       "<IPython.lib.display.IFrame at 0xa352108d0>"
      ]
     },
     "metadata": {},
     "output_type": "display_data"
    },
    {
     "data": {
      "text/plain": []
     },
     "execution_count": 11,
     "metadata": {},
     "output_type": "execute_result"
    }
   ],
   "source": [
    "dtale.show(generator2.df)"
   ]
  },
  {
   "cell_type": "code",
   "execution_count": 12,
   "metadata": {},
   "outputs": [
    {
     "data": {
      "text/plain": [
       "(array([5.000e+00, 1.000e+00, 2.000e+00, 3.000e+00, 0.000e+00, 2.000e+00,\n",
       "        0.000e+00, 0.000e+00, 2.000e+00, 3.000e+00, 0.000e+00, 1.000e+00,\n",
       "        2.000e+00, 6.000e+00, 8.000e+00, 8.000e+00, 3.000e+00, 1.800e+01,\n",
       "        1.900e+01, 2.100e+01, 1.800e+01, 1.100e+01, 1.300e+01, 1.800e+01,\n",
       "        3.100e+01, 8.900e+01, 5.200e+01, 4.800e+01, 9.600e+01, 8.300e+01,\n",
       "        4.200e+01, 6.600e+01, 2.410e+02, 9.400e+01, 1.190e+02, 1.900e+02,\n",
       "        3.310e+02, 3.070e+02, 1.810e+02, 4.552e+03, 1.280e+02, 1.510e+02,\n",
       "        4.390e+02, 2.540e+02, 3.030e+02, 2.920e+02, 4.630e+02, 3.890e+02,\n",
       "        5.370e+02, 2.380e+02, 4.510e+03, 1.570e+02, 4.480e+02, 3.020e+02,\n",
       "        3.020e+02, 2.650e+02, 4.330e+02, 4.230e+02, 4.920e+02, 1.780e+02,\n",
       "        4.496e+03, 1.050e+02, 2.290e+02, 2.370e+02, 2.210e+02, 1.680e+02,\n",
       "        1.540e+02, 1.640e+02, 4.080e+02, 7.100e+01, 4.900e+01, 2.200e+01,\n",
       "        3.400e+01, 7.400e+01, 2.900e+01, 6.000e+01, 2.000e+01, 6.400e+01,\n",
       "        3.500e+01, 6.000e+00, 1.000e+01, 6.000e+00, 1.200e+01, 1.200e+01,\n",
       "        7.000e+00, 6.000e+00, 1.000e+00, 0.000e+00, 3.000e+00, 3.000e+00,\n",
       "        2.000e+00, 2.000e+00, 3.000e+00, 0.000e+00, 0.000e+00, 0.000e+00,\n",
       "        1.000e+00, 0.000e+00, 0.000e+00, 4.000e+00]),\n",
       " array([-1.  , -0.98, -0.96, -0.94, -0.92, -0.9 , -0.88, -0.86, -0.84,\n",
       "        -0.82, -0.8 , -0.78, -0.76, -0.74, -0.72, -0.7 , -0.68, -0.66,\n",
       "        -0.64, -0.62, -0.6 , -0.58, -0.56, -0.54, -0.52, -0.5 , -0.48,\n",
       "        -0.46, -0.44, -0.42, -0.4 , -0.38, -0.36, -0.34, -0.32, -0.3 ,\n",
       "        -0.28, -0.26, -0.24, -0.22, -0.2 , -0.18, -0.16, -0.14, -0.12,\n",
       "        -0.1 , -0.08, -0.06, -0.04, -0.02,  0.  ,  0.02,  0.04,  0.06,\n",
       "         0.08,  0.1 ,  0.12,  0.14,  0.16,  0.18,  0.2 ,  0.22,  0.24,\n",
       "         0.26,  0.28,  0.3 ,  0.32,  0.34,  0.36,  0.38,  0.4 ,  0.42,\n",
       "         0.44,  0.46,  0.48,  0.5 ,  0.52,  0.54,  0.56,  0.58,  0.6 ,\n",
       "         0.62,  0.64,  0.66,  0.68,  0.7 ,  0.72,  0.74,  0.76,  0.78,\n",
       "         0.8 ,  0.82,  0.84,  0.86,  0.88,  0.9 ,  0.92,  0.94,  0.96,\n",
       "         0.98,  1.  ]),\n",
       " <a list of 100 Patch objects>)"
      ]
     },
     "execution_count": 12,
     "metadata": {},
     "output_type": "execute_result"
    },
    {
     "data": {
      "image/png": "[encoded data removed]",
      "text/plain": [
       "<Figure size 864x216 with 1 Axes>"
      ]
     },
     "metadata": {
      "needs_background": "light"
     },
     "output_type": "display_data"
    },
    {
     "data": {
      "image/png": "[encoded data removed]",
      "text/plain": [
       "<Figure size 864x216 with 1 Axes>"
      ]
     },
     "metadata": {
      "needs_background": "light"
     },
     "output_type": "display_data"
    }
   ],
   "source": [
    "generator2.show_stats(logarithmic=False, bins=100)\n",
    "generator2.show_stats(logarithmic=True, bins=100)"
   ]
  },
  {
   "cell_type": "code",
   "execution_count": 13,
   "metadata": {},
   "outputs": [],
   "source": [
    "generator2.balance_dataset()"
   ]
  },
  {
   "cell_type": "code",
   "execution_count": 14,
   "metadata": {},
   "outputs": [
    {
     "name": "stderr",
     "output_type": "stream",
     "text": [
      "2019-12-10 21:27:30,623 - INFO     - D-Tale started at: http://MacBook-Pro-GT:54750\n"
     ]
    },
    {
     "name": "stdout",
     "output_type": "stream",
     "text": [
      " * Serving Flask app \"dtale\" (lazy loading)\n",
      " * Environment: production\n",
      "   WARNING: This is a development server. Do not use it in a production deployment.\n",
      "   Use a production WSGI server instead.\n",
      " * Debug mode: off\n"
     ]
    },
    {
     "data": {
      "text/html": [
       "\n",
       "        <iframe\n",
       "            width=\"100%\"\n",
       "            height=\"350\"\n",
       "            src=\"http://MacBook-Pro-GT:54750/dtale/iframe\"\n",
       "            frameborder=\"0\"\n",
       "            allowfullscreen\n",
       "        ></iframe>\n",
       "        "
      ],
      "text/plain": [
       "<IPython.lib.display.IFrame at 0xa34ef2ad0>"
      ]
     },
     "metadata": {},
     "output_type": "display_data"
    },
    {
     "data": {
      "text/plain": []
     },
     "execution_count": 14,
     "metadata": {},
     "output_type": "execute_result"
    }
   ],
   "source": [
    "dtale.show(generator2.df)"
   ]
  },
  {
   "cell_type": "code",
   "execution_count": 15,
   "metadata": {},
   "outputs": [
    {
     "data": {
      "text/plain": [
       "(array([  5.,   1.,   2.,   3.,   0.,   2.,   0.,   0.,   2.,   3.,   0.,\n",
       "          1.,   2.,   6.,   8.,   8.,   3.,  18.,  19.,  21.,  18.,  11.,\n",
       "         13.,  18.,  31.,  89.,  52.,  48.,  96.,  83.,  42.,  66., 241.,\n",
       "         94., 119., 190., 331., 307., 181., 454.,  14., 151., 439., 254.,\n",
       "        303., 292., 463., 389., 537., 132., 558., 157., 448., 302., 302.,\n",
       "        265., 433., 423., 492.,   8., 459., 105., 229., 237., 221., 168.,\n",
       "        154., 164., 408.,  71.,  49.,  22.,  34.,  74.,  29.,  60.,  20.,\n",
       "         64.,  35.,   6.,  10.,   6.,  12.,  12.,   7.,   6.,   1.,   0.,\n",
       "          3.,   3.,   2.,   2.,   3.,   0.,   0.,   0.,   1.,   0.,   0.,\n",
       "          4.]),\n",
       " array([-1.  , -0.98, -0.96, -0.94, -0.92, -0.9 , -0.88, -0.86, -0.84,\n",
       "        -0.82, -0.8 , -0.78, -0.76, -0.74, -0.72, -0.7 , -0.68, -0.66,\n",
       "        -0.64, -0.62, -0.6 , -0.58, -0.56, -0.54, -0.52, -0.5 , -0.48,\n",
       "        -0.46, -0.44, -0.42, -0.4 , -0.38, -0.36, -0.34, -0.32, -0.3 ,\n",
       "        -0.28, -0.26, -0.24, -0.22, -0.2 , -0.18, -0.16, -0.14, -0.12,\n",
       "        -0.1 , -0.08, -0.06, -0.04, -0.02,  0.  ,  0.02,  0.04,  0.06,\n",
       "         0.08,  0.1 ,  0.12,  0.14,  0.16,  0.18,  0.2 ,  0.22,  0.24,\n",
       "         0.26,  0.28,  0.3 ,  0.32,  0.34,  0.36,  0.38,  0.4 ,  0.42,\n",
       "         0.44,  0.46,  0.48,  0.5 ,  0.52,  0.54,  0.56,  0.58,  0.6 ,\n",
       "         0.62,  0.64,  0.66,  0.68,  0.7 ,  0.72,  0.74,  0.76,  0.78,\n",
       "         0.8 ,  0.82,  0.84,  0.86,  0.88,  0.9 ,  0.92,  0.94,  0.96,\n",
       "         0.98,  1.  ]),\n",
       " <a list of 100 Patch objects>)"
      ]
     },
     "execution_count": 15,
     "metadata": {},
     "output_type": "execute_result"
    },
    {
     "data": {
      "image/png": "[encoded data removed]",
      "text/plain": [
       "<Figure size 864x216 with 1 Axes>"
      ]
     },
     "metadata": {
      "needs_background": "light"
     },
     "output_type": "display_data"
    },
    {
     "data": {
      "image/png": "[encoded data removed]",
      "text/plain": [
       "<Figure size 864x216 with 1 Axes>"
      ]
     },
     "metadata": {
      "needs_background": "light"
     },
     "output_type": "display_data"
    }
   ],
   "source": [
    "rng = (-1., 1.)\n",
    "generator2.show_stats(logarithmic=False, bins=100, range=rng) \n",
    "generator2.show_stats(logarithmic=True, bins=100, range=rng)"
   ]
  },
  {
   "cell_type": "markdown",
   "metadata": {},
   "source": [
    "## Data merged (my + udacity)"
   ]
  },
  {
   "cell_type": "code",
   "execution_count": 16,
   "metadata": {},
   "outputs": [
    {
     "name": "stderr",
     "output_type": "stream",
     "text": [
      "/Users/grzegorz.tyminski/OneDrive - intive/Projects/Cognitive/projects/Autonomous driving training/github/Behavioral-Clonning/DataGenerator.py:179: FutureWarning: Sorting because non-concatenation axis is not aligned. A future version\n",
      "of pandas will change to not sort by default.\n",
      "\n",
      "To accept the future behavior, pass 'sort=False'.\n",
      "\n",
      "To retain the current behavior and silence the warning, pass 'sort=True'.\n",
      "\n",
      "  df = pd.concat([self.df, data.df])\n"
     ]
    }
   ],
   "source": [
    "generator = generator1.merge(generator2)"
   ]
  },
  {
   "cell_type": "code",
   "execution_count": 17,
   "metadata": {},
   "outputs": [
    {
     "name": "stderr",
     "output_type": "stream",
     "text": [
      "2019-12-10 21:27:31,839 - INFO     - D-Tale started at: http://MacBook-Pro-GT:54761\n"
     ]
    },
    {
     "name": "stdout",
     "output_type": "stream",
     "text": [
      " * Serving Flask app \"dtale\" (lazy loading)\n",
      " * Environment: production\n",
      "   WARNING: This is a development server. Do not use it in a production deployment.\n",
      "   Use a production WSGI server instead.\n",
      " * Debug mode: off\n"
     ]
    },
    {
     "data": {
      "text/html": [
       "\n",
       "        <iframe\n",
       "            width=\"100%\"\n",
       "            height=\"350\"\n",
       "            src=\"http://MacBook-Pro-GT:54761/dtale/iframe\"\n",
       "            frameborder=\"0\"\n",
       "            allowfullscreen\n",
       "        ></iframe>\n",
       "        "
      ],
      "text/plain": [
       "<IPython.lib.display.IFrame at 0xa3717ef50>"
      ]
     },
     "metadata": {},
     "output_type": "display_data"
    },
    {
     "data": {
      "text/plain": []
     },
     "execution_count": 17,
     "metadata": {},
     "output_type": "execute_result"
    }
   ],
   "source": [
    "dtale.show(generator.df)"
   ]
  },
  {
   "cell_type": "code",
   "execution_count": 18,
   "metadata": {},
   "outputs": [],
   "source": [
    "train, valid = generator.split(factor=0.1)"
   ]
  },
  {
   "cell_type": "code",
   "execution_count": 19,
   "metadata": {},
   "outputs": [
    {
     "name": "stderr",
     "output_type": "stream",
     "text": [
      "2019-12-10 21:27:32,303 - INFO     - D-Tale started at: http://MacBook-Pro-GT:54772\n"
     ]
    },
    {
     "name": "stdout",
     "output_type": "stream",
     "text": [
      " * Serving Flask app \"dtale\" (lazy loading)\n",
      " * Environment: production\n",
      "   WARNING: This is a development server. Do not use it in a production deployment.\n",
      "   Use a production WSGI server instead.\n",
      " * Debug mode: off\n"
     ]
    },
    {
     "data": {
      "text/html": [
       "\n",
       "        <iframe\n",
       "            width=\"100%\"\n",
       "            height=\"350\"\n",
       "            src=\"http://MacBook-Pro-GT:54772/dtale/iframe\"\n",
       "            frameborder=\"0\"\n",
       "            allowfullscreen\n",
       "        ></iframe>\n",
       "        "
      ],
      "text/plain": [
       "<IPython.lib.display.IFrame at 0xa34510790>"
      ]
     },
     "metadata": {},
     "output_type": "display_data"
    },
    {
     "data": {
      "text/plain": []
     },
     "execution_count": 19,
     "metadata": {},
     "output_type": "execute_result"
    }
   ],
   "source": [
    "dtale.show(train.df)"
   ]
  },
  {
   "cell_type": "code",
   "execution_count": 20,
   "metadata": {},
   "outputs": [
    {
     "name": "stderr",
     "output_type": "stream",
     "text": [
      "2019-12-10 21:27:32,455 - INFO     - D-Tale started at: http://MacBook-Pro-GT:54780\n"
     ]
    },
    {
     "name": "stdout",
     "output_type": "stream",
     "text": [
      " * Serving Flask app \"dtale\" (lazy loading)\n",
      " * Environment: production\n",
      "   WARNING: This is a development server. Do not use it in a production deployment.\n",
      "   Use a production WSGI server instead.\n",
      " * Debug mode: off\n"
     ]
    },
    {
     "data": {
      "text/html": [
       "\n",
       "        <iframe\n",
       "            width=\"100%\"\n",
       "            height=\"350\"\n",
       "            src=\"http://MacBook-Pro-GT:54780/dtale/iframe\"\n",
       "            frameborder=\"0\"\n",
       "            allowfullscreen\n",
       "        ></iframe>\n",
       "        "
      ],
      "text/plain": [
       "<IPython.lib.display.IFrame at 0xa342ddbd0>"
      ]
     },
     "metadata": {},
     "output_type": "display_data"
    },
    {
     "data": {
      "text/plain": []
     },
     "execution_count": 20,
     "metadata": {},
     "output_type": "execute_result"
    }
   ],
   "source": [
    "dtale.show(valid.df)"
   ]
  },
  {
   "cell_type": "code",
   "execution_count": 21,
   "metadata": {},
   "outputs": [
    {
     "data": {
      "text/plain": [
       "(array([2.600e+01, 3.000e+00, 2.000e+00, 4.000e+00, 0.000e+00, 2.000e+00,\n",
       "        1.000e+00, 1.000e+00, 2.000e+00, 7.000e+00, 1.300e+01, 7.000e+00,\n",
       "        1.200e+01, 7.000e+00, 8.000e+00, 7.000e+00, 9.000e+00, 1.900e+01,\n",
       "        1.500e+01, 2.500e+01, 3.000e+01, 1.300e+01, 3.000e+01, 2.400e+01,\n",
       "        2.900e+01, 7.800e+01, 5.100e+01, 8.000e+01, 1.320e+02, 1.080e+02,\n",
       "        7.600e+01, 9.800e+01, 2.610e+02, 1.590e+02, 2.600e+02, 3.900e+02,\n",
       "        6.160e+02, 7.950e+02, 1.137e+03, 5.370e+02, 9.600e+01, 6.730e+02,\n",
       "        6.780e+02, 5.400e+02, 5.420e+02, 6.310e+02, 7.450e+02, 8.820e+02,\n",
       "        1.454e+03, 8.250e+02, 1.189e+03, 6.960e+02, 6.960e+02, 5.990e+02,\n",
       "        5.620e+02, 6.240e+02, 7.180e+02, 8.980e+02, 1.375e+03, 1.060e+02,\n",
       "        5.280e+02, 6.180e+02, 4.900e+02, 4.850e+02, 3.420e+02, 3.090e+02,\n",
       "        1.910e+02, 1.900e+02, 3.710e+02, 9.800e+01, 8.600e+01, 4.400e+01,\n",
       "        7.200e+01, 8.000e+01, 3.900e+01, 5.900e+01, 2.900e+01, 5.900e+01,\n",
       "        3.700e+01, 6.000e+00, 1.600e+01, 7.000e+00, 1.500e+01, 9.000e+00,\n",
       "        2.000e+00, 7.000e+00, 4.000e+00, 4.000e+00, 4.000e+00, 7.000e+00,\n",
       "        7.000e+00, 1.000e+00, 3.000e+00, 0.000e+00, 0.000e+00, 1.000e+00,\n",
       "        4.000e+00, 0.000e+00, 0.000e+00, 4.000e+00]),\n",
       " array([-1.  , -0.98, -0.96, -0.94, -0.92, -0.9 , -0.88, -0.86, -0.84,\n",
       "        -0.82, -0.8 , -0.78, -0.76, -0.74, -0.72, -0.7 , -0.68, -0.66,\n",
       "        -0.64, -0.62, -0.6 , -0.58, -0.56, -0.54, -0.52, -0.5 , -0.48,\n",
       "        -0.46, -0.44, -0.42, -0.4 , -0.38, -0.36, -0.34, -0.32, -0.3 ,\n",
       "        -0.28, -0.26, -0.24, -0.22, -0.2 , -0.18, -0.16, -0.14, -0.12,\n",
       "        -0.1 , -0.08, -0.06, -0.04, -0.02,  0.  ,  0.02,  0.04,  0.06,\n",
       "         0.08,  0.1 ,  0.12,  0.14,  0.16,  0.18,  0.2 ,  0.22,  0.24,\n",
       "         0.26,  0.28,  0.3 ,  0.32,  0.34,  0.36,  0.38,  0.4 ,  0.42,\n",
       "         0.44,  0.46,  0.48,  0.5 ,  0.52,  0.54,  0.56,  0.58,  0.6 ,\n",
       "         0.62,  0.64,  0.66,  0.68,  0.7 ,  0.72,  0.74,  0.76,  0.78,\n",
       "         0.8 ,  0.82,  0.84,  0.86,  0.88,  0.9 ,  0.92,  0.94,  0.96,\n",
       "         0.98,  1.  ]),\n",
       " <a list of 100 Patch objects>)"
      ]
     },
     "execution_count": 21,
     "metadata": {},
     "output_type": "execute_result"
    },
    {
     "data": {
      "image/png": "[encoded data removed]",
      "text/plain": [
       "<Figure size 864x216 with 1 Axes>"
      ]
     },
     "metadata": {
      "needs_background": "light"
     },
     "output_type": "display_data"
    }
   ],
   "source": [
    "rng = (-1., 1.)\n",
    "train.show_stats(logarithmic=False, bins=100, range=rng)"
   ]
  },
  {
   "cell_type": "code",
   "execution_count": 22,
   "metadata": {},
   "outputs": [
    {
     "data": {
      "text/plain": [
       "(array([  1.,   0.,   0.,   0.,   0.,   1.,   0.,   0.,   1.,   2.,   3.,\n",
       "          1.,   2.,   1.,   1.,   1.,   1.,   3.,   2.,   2.,   4.,   2.,\n",
       "          2.,   3.,   4.,   8.,  10.,   8.,  23.,  12.,   9.,   7.,  27.,\n",
       "         22.,  33.,  60.,  75., 102., 133.,  70.,  12.,  79.,  68.,  78.,\n",
       "         66.,  81.,  93., 117., 196., 101., 202.,  76.,  86.,  69.,  76.,\n",
       "         78.,  90., 117., 168.,  15.,  80.,  87.,  56.,  57.,  43.,  30.,\n",
       "         29.,  24.,  54.,  12.,  11.,   7.,   5.,  11.,   2.,  11.,   2.,\n",
       "          8.,   6.,   2.,   1.,   1.,   1.,   3.,   0.,   0.,   2.,   1.,\n",
       "          0.,   0.,   1.,   0.,   0.,   0.,   0.,   1.,   0.,   0.,   0.,\n",
       "          2.]),\n",
       " array([-1.  , -0.98, -0.96, -0.94, -0.92, -0.9 , -0.88, -0.86, -0.84,\n",
       "        -0.82, -0.8 , -0.78, -0.76, -0.74, -0.72, -0.7 , -0.68, -0.66,\n",
       "        -0.64, -0.62, -0.6 , -0.58, -0.56, -0.54, -0.52, -0.5 , -0.48,\n",
       "        -0.46, -0.44, -0.42, -0.4 , -0.38, -0.36, -0.34, -0.32, -0.3 ,\n",
       "        -0.28, -0.26, -0.24, -0.22, -0.2 , -0.18, -0.16, -0.14, -0.12,\n",
       "        -0.1 , -0.08, -0.06, -0.04, -0.02,  0.  ,  0.02,  0.04,  0.06,\n",
       "         0.08,  0.1 ,  0.12,  0.14,  0.16,  0.18,  0.2 ,  0.22,  0.24,\n",
       "         0.26,  0.28,  0.3 ,  0.32,  0.34,  0.36,  0.38,  0.4 ,  0.42,\n",
       "         0.44,  0.46,  0.48,  0.5 ,  0.52,  0.54,  0.56,  0.58,  0.6 ,\n",
       "         0.62,  0.64,  0.66,  0.68,  0.7 ,  0.72,  0.74,  0.76,  0.78,\n",
       "         0.8 ,  0.82,  0.84,  0.86,  0.88,  0.9 ,  0.92,  0.94,  0.96,\n",
       "         0.98,  1.  ]),\n",
       " <a list of 100 Patch objects>)"
      ]
     },
     "execution_count": 22,
     "metadata": {},
     "output_type": "execute_result"
    },
    {
     "data": {
      "image/png": "[encoded data removed]",
      "text/plain": [
       "<Figure size 864x216 with 1 Axes>"
      ]
     },
     "metadata": {
      "needs_background": "light"
     },
     "output_type": "display_data"
    }
   ],
   "source": [
    "rng = (-1., 1.)\n",
    "valid.show_stats(logarithmic=False, bins=100, range=rng)"
   ]
  },
  {
   "cell_type": "code",
   "execution_count": 26,
   "metadata": {},
   "outputs": [
    {
     "data": {
      "text/plain": [
       "<matplotlib.image.AxesImage at 0xa3696fc10>"
      ]
     },
     "execution_count": 26,
     "metadata": {},
     "output_type": "execute_result"
    },
    {
     "data": {
      "image/png": "[encoded data removed]",
      "text/plain": [
       "<Figure size 432x288 with 1 Axes>"
      ]
     },
     "metadata": {
      "needs_background": "light"
     },
     "output_type": "display_data"
    }
   ],
   "source": [
    "plt.imshow(generator.mean_of_all())"
   ]
  },
  {
   "cell_type": "markdown",
   "metadata": {},
   "source": [
    "## Let's check loading time"
   ]
  },
  {
   "cell_type": "code",
   "execution_count": 23,
   "metadata": {},
   "outputs": [],
   "source": [
    "import time"
   ]
  },
  {
   "cell_type": "code",
   "execution_count": 24,
   "metadata": {},
   "outputs": [],
   "source": [
    "start_time = time.time()\n",
    "for i in range(batch_size):\n",
    "    x, y = train.__getitem__(i)\n",
    "    x, y = valid.__getitem__(i)\n",
    "end_time = time.time()"
   ]
  },
  {
   "cell_type": "code",
   "execution_count": 25,
   "metadata": {},
   "outputs": [
    {
     "name": "stdout",
     "output_type": "stream",
     "text": [
      "1.3782048225402832\n"
     ]
    }
   ],
   "source": [
    "print(end_time - start_time)"
   ]
  },
  {
   "cell_type": "code",
   "execution_count": null,
   "metadata": {},
   "outputs": [],
   "source": []
  }
 ],
 "metadata": {
  "kernelspec": {
   "display_name": "Python 3",
   "language": "python",
   "name": "python3"
  },
  "language_info": {
   "codemirror_mode": {
    "name": "ipython",
    "version": 3
   },
   "file_extension": ".py",
   "mimetype": "text/x-python",
   "name": "python",
   "nbconvert_exporter": "python",
   "pygments_lexer": "ipython3",
   "version": "3.7.4"
  }
 },
 "nbformat": 4,
 "nbformat_minor": 2
}
